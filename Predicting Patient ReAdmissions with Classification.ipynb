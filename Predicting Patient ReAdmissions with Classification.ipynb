{
 "cells": [
  {
   "cell_type": "markdown",
   "source": [
    "# Research Question\n",
    "\n",
    "Our goal is to predict whether or not a patient will be readmitted to a hospital within 30 days of their initial discharge. We will be using the K-Nearest Neighbor (KNN) method to examine the patient's pre-existing health conditions as well as demographics such as gender and age."
   ],
   "metadata": {}
  },
  {
   "cell_type": "markdown",
   "source": [
    "# Method Justification\n",
    "\n",
    "KNN classification uses the following general algorithm:\n",
    "\n",
    "1. Find *K* records that have similar predictor values and group them.\n",
    "2. Find the majority class of that group assign it to that group. In our case the class is 'Yes' or 'No' for readmissions. \n",
    "\n",
    "By doing applying this method to our patient data we can see if a set of features is likely to contribute to readmissions. Predicitons made by KNN assume that similar inputs produce similar outputs. \n",
    "\n",
    "\n",
    "\n",
    "## Tools, Packages, and Libraries\n",
    "\n",
    "We'll be using python for this analysis. Python has many libraries that make the data manipulation and analysis tasks that we are going to perform easier. The particular libraries that we will make use of are:\n",
    "\n",
    "- ``Numpy`` and ``pandas`` for standard dataframe and numerical operations\n",
    "- ``sklearn`` for it's KNN implementation as well as it's ``preprocessing`` module for scalers, ``model_selection`` module for train/test splits, and ``metrics`` for the AUC score.\n",
    "- ``matplotlib`` for plots\n",
    "\n",
    "We will now install and import them:"
   ],
   "metadata": {}
  },
  {
   "cell_type": "code",
   "execution_count": 1,
   "source": [
    "%%capture\n",
    "# install packages\n",
    "!pip install numpy\n",
    "!pip install pandas\n",
    "!pip install matplotlib\n",
    "!pip install sklearn\n",
    "\n",
    "\n",
    "# import packages\n",
    "import pandas as pd\n",
    "import numpy as np\n",
    "\n",
    "from sklearn.neighbors import KNeighborsClassifier\n",
    "from sklearn.preprocessing import StandardScaler\n",
    "from sklearn.model_selection import train_test_split\n",
    "from sklearn.metrics import roc_auc_score\n",
    "\n",
    "import matplotlib.pyplot as plt\n",
    "\n",
    "\n",
    "# random seed\n",
    "import random\n",
    "random.seed(10)"
   ],
   "outputs": [],
   "metadata": {}
  },
  {
   "cell_type": "markdown",
   "source": [
    "# Data Preparation\n",
    "\n",
    "## Selection\n",
    "The variables that we will be including in our analysis are:\n",
    "\n",
    "Variable | Type\n",
    "--- | ---\n",
    "Age| continuous\n",
    "Gender| categorical\n",
    "VitD_levels| continuous\n",
    "Soft_drink| categorical\n",
    "HighBlood| categorical\n",
    "Stroke| categorical\n",
    "Overweight| categorical\n",
    "Arthritis| categorical\n",
    "Diabetes| categorical\n",
    "Hyperlipidemia| categorical\n",
    "BackPain| categorical\n",
    "Anxiety| categorical\n",
    "Allergic_rhinitis| categorical\n",
    "Reflux_esophagitis| categorical\n",
    "Asthma| categorical\n",
    "ReAdmis | categorical"
   ],
   "metadata": {}
  },
  {
   "cell_type": "code",
   "execution_count": 2,
   "source": [
    "# import data\n",
    "df = pd.read_csv(\"data/medical_clean.csv\")\n",
    "df = df.loc[1:, ['Age',\n",
    "    'Gender',\n",
    "    'VitD_levels',\n",
    "    'Soft_drink',\n",
    "    'HighBlood',\n",
    "    'Stroke',\n",
    "    'Complication_risk',\n",
    "    'Overweight',\n",
    "    'Arthritis',\n",
    "    'Diabetes',\n",
    "    'Hyperlipidemia',\n",
    "    'BackPain',\n",
    "    'Anxiety',\n",
    "    'Allergic_rhinitis',\n",
    "    'Reflux_esophagitis',\n",
    "    'Asthma', \n",
    "    'ReAdmis'\n",
    "]]\n",
    "df.head()\n",
    "\n",
    "# Define outcome and predictors\n",
    "outcome = 'ReAdmis'\n",
    "predictors = [\n",
    "    'Age',\n",
    "    'Gender',\n",
    "    'VitD_levels',\n",
    "    'Soft_drink',\n",
    "    'HighBlood',\n",
    "    'Stroke',\n",
    "    'Complication_risk',\n",
    "    'Overweight',\n",
    "    'Arthritis',\n",
    "    'Diabetes',\n",
    "    'Hyperlipidemia',\n",
    "    'BackPain',\n",
    "    'Anxiety',\n",
    "    'Allergic_rhinitis',\n",
    "    'Reflux_esophagitis',\n",
    "    'Asthma',\n",
    "]"
   ],
   "outputs": [],
   "metadata": {}
  },
  {
   "cell_type": "markdown",
   "source": [
    "## Cleaning and Scaling\n",
    "There are many categorical variables in this set. KNN requires numeric variables, so we will need to convert them. We will also separate the dataset into outcome and predictors (X and y) and apply a scaler to the data.\n",
    "\n",
    "The cleaned dataset can be found in ``medical_clean_numeric.csv``"
   ],
   "metadata": {}
  },
  {
   "cell_type": "code",
   "execution_count": 3,
   "source": [
    "%%capture\n",
    "cat_columns = df.select_dtypes(exclude=\"number\").columns\n",
    "\n",
    "# Give categorical columns a numeric value\n",
    "for col in cat_columns:\n",
    "    df[col] = pd.Categorical(df[col])\n",
    "    df[col] = df[col].cat.codes\n",
    "\n",
    "# export\n",
    "df.to_csv(\"data/medical_clean_numeric.csv\", index=False)\n",
    "\n",
    "# Separate into predictors and outcome\n",
    "\n",
    "X = df.loc[1:, predictors]\n",
    "y = df.loc[1:, outcome]\n",
    "\n",
    "# apply scaler\n",
    "scaler = StandardScaler()\n",
    "scaler.fit(X * 1.0)\n",
    "X = scaler.transform(X * 1.0)"
   ],
   "outputs": [],
   "metadata": {}
  },
  {
   "cell_type": "markdown",
   "source": [
    "## Train test split\n",
    "\n",
    "We'll also separating the data into training and testing sets on an 80/20 split. Copies of the train and test data can be found in ``train.csv`` and ``test.csv``, respectively."
   ],
   "metadata": {}
  },
  {
   "cell_type": "code",
   "execution_count": 4,
   "source": [
    "X_train, X_test, y_train, y_test = train_test_split(X, y, test_size=0.2, random_state=10)\n",
    "\n",
    "train = pd.DataFrame(X_train, columns=predictors)\n",
    "train[outcome] = y_train\n",
    "train.to_csv(\"data/train.csv\", index=False)\n",
    "\n",
    "test = pd.DataFrame(X_test, columns=predictors)\n",
    "test[outcome] = y_test\n",
    "test.to_csv(\"data/test.csv\", index=False)"
   ],
   "outputs": [],
   "metadata": {}
  },
  {
   "cell_type": "markdown",
   "source": [
    "# Analysis\n",
    "\n",
    "Now that the data has been cleaned and split into train and test data we are ready to run a KNN Classifier!\n",
    "\n",
    "We'll try the analysis using different values for *k*. "
   ],
   "metadata": {}
  },
  {
   "cell_type": "code",
   "execution_count": 5,
   "source": [
    "neighbors = range(2, 21)\n",
    "scores = np.empty(len(neighbors))\n",
    "\n",
    "# Loop over different values of k\n",
    "best_k = 0\n",
    "best_score = -1\n",
    "best_model = None\n",
    "for i, k in enumerate(neighbors):\n",
    "    #Create a k-NN classifier with k neighbors\n",
    "    knn = KNeighborsClassifier(n_neighbors=k)\n",
    "\n",
    "    # Fit the classifier to the data\n",
    "    knn.fit(X_train, y_train)\n",
    "\n",
    "    # Score the classifier and add it the list of scores\n",
    "    score = knn.score(X_test, y_test)\n",
    "    scores[i] = score\n",
    "\n",
    "    if score > best_score:\n",
    "        best_score = score\n",
    "        best_k = k\n",
    "        best_model = knn\n",
    "        \n",
    "\n",
    "print('\\nBest k-value is %i with a score of %.3f' % (best_k, best_score))\n",
    "\n",
    "y_pred = best_model.predict(X_test)\n",
    "auc_score = roc_auc_score(y_test, y_pred)\n",
    "print('AUC score: %.3f' % auc_score)"
   ],
   "outputs": [
    {
     "output_type": "stream",
     "name": "stdout",
     "text": [
      "\n",
      "Best k-value is 12 with a score of 0.624\n",
      "AUC score: 0.505\n"
     ]
    }
   ],
   "metadata": {}
  },
  {
   "cell_type": "markdown",
   "source": [
    "We'll visualize the data with a graph as well."
   ],
   "metadata": {}
  },
  {
   "cell_type": "code",
   "execution_count": 6,
   "source": [
    "plt.title('k-NN neighbors')\n",
    "plt.plot(neighbors, scores, label='Accuracy')\n",
    "plt.xlabel('Neighbors')\n",
    "plt.ylabel('Accuracy')\n",
    "plt.show()"
   ],
   "outputs": [
    {
     "output_type": "display_data",
     "data": {
      "text/plain": [
       "<Figure size 432x288 with 1 Axes>"
      ],
      "image/png": "[encoded data removed]"
     },
     "metadata": {
      "needs_background": "light"
     }
    }
   ],
   "metadata": {}
  },
  {
   "cell_type": "markdown",
   "source": [],
   "metadata": {}
  },
  {
   "cell_type": "markdown",
   "source": [
    "# Summary and Implications\n",
    "\n",
    "## Model effectiveness\n",
    "\n",
    "The best version of the model we produces used a k-value of 12 and achieved an accuracy rating of 0.624 as well as an Area Under the Curve (AUC) score of .505. This means that the model is *slightly* better than random guessing. \n",
    "\n",
    "The model's accuracy could use improvement. One limitation is the lack of complete patient medical records. Perhaps if the model could take into consideration more of the patient's medical history the accuracy could be increased. \n",
    "\n",
    "At the moment the best course of action would be to gather more patient records to produce a better model. "
   ],
   "metadata": {}
  },
  {
   "cell_type": "code",
   "execution_count": null,
   "source": [],
   "outputs": [],
   "metadata": {}
  }
 ],
 "metadata": {
  "interpreter": {
   "hash": "627983a44d32ebb52517aed66ead2aa99a0e745c9cb5de78d7df39736c77da7d"
  },
  "kernelspec": {
   "name": "python3",
   "display_name": "Python 3.8.5 64-bit ('base': conda)"
  },
  "language_info": {
   "codemirror_mode": {
    "name": "ipython",
    "version": 3
   },
   "file_extension": ".py",
   "mimetype": "text/x-python",
   "name": "python",
   "nbconvert_exporter": "python",
   "pygments_lexer": "ipython3",
   "version": "3.8.5"
  }
 },
 "nbformat": 4,
 "nbformat_minor": 4
}